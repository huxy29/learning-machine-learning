{
 "cells": [
  {
   "cell_type": "markdown",
   "metadata": {},
   "source": [
    "# Solution 17-18\n",
    "&emsp;&emsp;按照题目要求的方式生成样本容量为 20 的数据集，并在此数据集上运行一维 \"decision stump\" 算法，记录 Ein 并根据 Problem 16 中的公式计算相应的 Eout，重复实验 5000 次，求 Ein 和 Eout 的平均，并画出各自分布分直方图（简单起见就直接画了折线图）"
   ]
  },
  {
   "cell_type": "code",
   "execution_count": 1,
   "metadata": {},
   "outputs": [
    {
     "name": "stdout",
     "output_type": "stream",
     "text": [
      "the average Ein is 0.17125\n",
      "the average Eout is 0.2399584267896481\n"
     ]
    }
   ],
   "source": [
    "from decisionStump import DecisionStump\n",
    "import matplotlib.pyplot as plt\n",
    "import numpy as np\n",
    "\n",
    "ds = DecisionStump()\n",
    "\n",
    "list_of_Ein = []\n",
    "list_of_Eout = []\n",
    "for i in range(5000):\n",
    "    train_X, train_Y = ds.gen_data()\n",
    "    Ein, s, theta = ds.train_1d(train_X, train_Y)\n",
    "    Eout = ds.calc_Eout(s, theta)\n",
    "    list_of_Ein.append(Ein)\n",
    "    list_of_Eout.append(Eout)\n",
    "    \n",
    "print(\"the average Ein is {0}\".format(np.mean(list_of_Ein)))\n",
    "print(\"the average Eout is {0}\".format(np.mean(list_of_Eout)))"
   ]
  },
  {
   "cell_type": "code",
   "execution_count": 2,
   "metadata": {},
   "outputs": [
    {
     "data": {
      "image/png": "[encoded data removed]",
      "text/plain": [
       "<matplotlib.figure.Figure at 0x7f71085ce940>"
      ]
     },
     "metadata": {},
     "output_type": "display_data"
    }
   ],
   "source": [
    "Ein_cnt = {}\n",
    "for Ein in list_of_Ein:\n",
    "    Ein_cnt.setdefault(Ein, 0)\n",
    "    Ein_cnt[Ein] += 1\n",
    "\n",
    "x = []\n",
    "y = []\n",
    "xy = [(k, Ein_cnt[k]) for k in sorted(Ein_cnt.keys())]\n",
    "for item in xy:\n",
    "    x.append(item[0])\n",
    "    y.append(item[1])\n",
    "\n",
    "plt.plot(x, y)\n",
    "plt.show()"
   ]
  },
  {
   "cell_type": "code",
   "execution_count": 3,
   "metadata": {},
   "outputs": [
    {
     "data": {
      "image/png": "[encoded data removed]",
      "text/plain": [
       "<matplotlib.figure.Figure at 0x7f7103f07208>"
      ]
     },
     "metadata": {},
     "output_type": "display_data"
    }
   ],
   "source": [
    "list_of_Eout = np.around(list_of_Eout, decimals=2)    # 保留 2 位小数\n",
    "Eout_cnt = {}\n",
    "for Eout in list_of_Eout:\n",
    "    Eout_cnt.setdefault(Eout, 0)\n",
    "    Eout_cnt[Eout] += 1\n",
    "    \n",
    "x = []\n",
    "y = []\n",
    "xy = [(k, Eout_cnt[k]) for k in sorted(Eout_cnt.keys())]\n",
    "for item in xy:\n",
    "    x.append(item[0])\n",
    "    y.append(item[1])\n",
    "\n",
    "plt.plot(x, y)\n",
    "plt.show()"
   ]
  },
  {
   "cell_type": "markdown",
   "metadata": {},
   "source": [
    "# Solution 19-20\n",
    "&emsp;&emsp;对多维数据使用 \"decision stump\" 算法"
   ]
  },
  {
   "cell_type": "code",
   "execution_count": 4,
   "metadata": {},
   "outputs": [],
   "source": [
    "train_X, train_Y = ds.read_file('hw2_train.dat.txt')\n",
    "test_X, test_Y = ds.read_file('hw2_test.dat.txt')"
   ]
  },
  {
   "cell_type": "code",
   "execution_count": 9,
   "metadata": {},
   "outputs": [
    {
     "name": "stdout",
     "output_type": "stream",
     "text": [
      "the optimal decision stump: i=3, s=-1, theta=1.6175000000000002\n",
      "the Ein of the optimal decision stump is: 0.25\n"
     ]
    }
   ],
   "source": [
    "ds.train(train_X, train_Y)\n",
    "print(\"the optimal decision stump: i={0}, s={1}, theta={2}\".format(ds.opt_i, ds.opt_s, ds.opt_theta))\n",
    "print(\"the Ein of the optimal decision stump is: {0}\".format(ds.opt_err))"
   ]
  },
  {
   "cell_type": "code",
   "execution_count": 8,
   "metadata": {},
   "outputs": [
    {
     "name": "stdout",
     "output_type": "stream",
     "text": [
      "the estimate of Eout by Etest is: 0.355\n"
     ]
    }
   ],
   "source": [
    "Etest = ds.verify(test_X, test_Y)\n",
    "print(\"the estimate of Eout by Etest is: {0}\".format(Etest))"
   ]
  }
 ],
 "metadata": {
  "kernelspec": {
   "display_name": "Python 3",
   "language": "python",
   "name": "python3"
  },
  "language_info": {
   "codemirror_mode": {
    "name": "ipython",
    "version": 3
   },
   "file_extension": ".py",
   "mimetype": "text/x-python",
   "name": "python",
   "nbconvert_exporter": "python",
   "pygments_lexer": "ipython3",
   "version": "3.5.2"
  }
 },
 "nbformat": 4,
 "nbformat_minor": 2
}
